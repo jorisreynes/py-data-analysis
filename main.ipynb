{
 "cells": [
  {
   "cell_type": "code",
   "execution_count": 1,
   "metadata": {},
   "outputs": [
    {
     "name": "stdout",
     "output_type": "stream",
     "text": [
      "Price of house 1183m² : [143048.01665078]\n",
      "Price of house 2233m² : [247336.22955189]\n",
      "Price of house 1513m² : [175824.31213399]\n"
     ]
    }
   ],
   "source": [
    "import pandas as pd\n",
    "from sklearn.linear_model import LinearRegression\n",
    "\n",
    "df = pd.read_csv('./data/housing_prices.csv')\n",
    "\n",
    "X = df[['SquareFeet']]\n",
    "y = df['Price']\n",
    "\n",
    "# Create and train model\n",
    "model = LinearRegression()\n",
    "model.fit(X.values, y.values)\n",
    "\n",
    "# Predictions\n",
    "prediction1183 = model.predict([[1183]])\n",
    "prediction2233 = model.predict([[2233]])\n",
    "prediction1513 = model.predict([[1513]])\n",
    "print(f\"Price of house 1183m² : {prediction1183}\")\n",
    "print(f\"Price of house 2233m² : {prediction2233}\")\n",
    "print(f\"Price of house 1513m² : {prediction1513}\")"
   ]
  }
 ],
 "metadata": {
  "kernelspec": {
   "display_name": "today-venv",
   "language": "python",
   "name": "python3"
  },
  "language_info": {
   "codemirror_mode": {
    "name": "ipython",
    "version": 3
   },
   "file_extension": ".py",
   "mimetype": "text/x-python",
   "name": "python",
   "nbconvert_exporter": "python",
   "pygments_lexer": "ipython3",
   "version": "3.11.4"
  }
 },
 "nbformat": 4,
 "nbformat_minor": 2
}
